{
 "cells": [
  {
   "cell_type": "markdown",
   "id": "7169ecc6-fa5b-45ef-a727-8025a9831657",
   "metadata": {},
   "source": [
    "# Array"
   ]
  },
  {
   "cell_type": "code",
   "execution_count": 12,
   "id": "3eba8262-8fd7-4ed8-ad0a-52e56733eadd",
   "metadata": {},
   "outputs": [
    {
     "name": "stdout",
     "output_type": "stream",
     "text": [
      "[1 2 3 4 5]\n",
      "<class 'numpy.ndarray'>\n",
      "1\n"
     ]
    }
   ],
   "source": [
    "import numpy as np\n",
    "x=np.array([1,2,3,4,5])\n",
    "print(x)\n",
    "print(type(x))\n",
    "print(x.ndim) #it will show up the dimension of arary\n"
   ]
  },
  {
   "cell_type": "code",
   "execution_count": 10,
   "id": "5654bc9c-e780-479c-b4a7-7f6370949284",
   "metadata": {},
   "outputs": [
    {
     "name": "stdin",
     "output_type": "stream",
     "text": [
      "Enter the number: 12\n",
      "Enter the number: 34\n",
      "Enter the number: 24\n",
      "Enter the number: 22\n"
     ]
    },
    {
     "name": "stdout",
     "output_type": "stream",
     "text": [
      "[12 34 24 22]\n"
     ]
    }
   ],
   "source": [
    "l=[]\n",
    "for i in range(1,5):\n",
    "    int_l = int(input(\"Enter the number:\"))\n",
    "    l.append(int_l)\n",
    "print(np.array(l))"
   ]
  },
  {
   "cell_type": "code",
   "execution_count": 13,
   "id": "8aa7282e-70e9-4f55-8369-97d147a63558",
   "metadata": {},
   "outputs": [
    {
     "name": "stdout",
     "output_type": "stream",
     "text": [
      "[[1 2 3 4]\n",
      " [1 2 3 4]]\n",
      "2\n"
     ]
    }
   ],
   "source": [
    "ar2 = np.array([[1,2,3,4],[1,2,3,4]])\n",
    "print(ar2)\n",
    "print(ar2.ndim)"
   ]
  },
  {
   "cell_type": "code",
   "execution_count": 14,
   "id": "a1643f05-e25f-4d70-92bd-8c1ad71d21eb",
   "metadata": {},
   "outputs": [
    {
     "name": "stdout",
     "output_type": "stream",
     "text": [
      "[[[1 2 3 4]\n",
      "  [1 2 3 4]\n",
      "  [1 2 3 4]]]\n",
      "3\n"
     ]
    }
   ],
   "source": [
    "ar3=np.array([[[1,2,3,4],[1,2,3,4],[1,2,3,4]]])\n",
    "print(ar3)\n",
    "print(ar3.ndim)"
   ]
  },
  {
   "cell_type": "code",
   "execution_count": 15,
   "id": "b81e3014-6baf-4227-b48e-9c87dd230f88",
   "metadata": {},
   "outputs": [
    {
     "name": "stdout",
     "output_type": "stream",
     "text": [
      "[[[[[[[[[[1 2 3 4]]]]]]]]]]\n",
      "10\n"
     ]
    }
   ],
   "source": [
    "arn=np.array([1,2,3,4],ndmin=10)\n",
    "#ndmin is the short cut to create n dimensional array\n",
    "print(arn)\n",
    "print(arn.ndim)"
   ]
  },
  {
   "cell_type": "markdown",
   "id": "18f57d60-db0f-45e8-99a0-6b42ebda9032",
   "metadata": {},
   "source": [
    "To create special type of array\n",
    "1. To create array with only 0 element use\n",
    "   np.zeros(4)-> for 1 dimensional\n",
    "   np.zeros([3,4])->for 2 dimensional\n",
    "2. To creaye array with only 1 elements use\n",
    "   np.ones(4)"
   ]
  },
  {
   "cell_type": "markdown",
   "id": "4445396d-6c7d-45a0-b8dd-0ba1bbd08052",
   "metadata": {},
   "source": [
    "# Array with Random numbers"
   ]
  },
  {
   "cell_type": "markdown",
   "id": "c3f20a9f-5b36-4d68-bac8-075ad4b3dc8a",
   "metadata": {},
   "source": [
    "# Rand()"
   ]
  },
  {
   "cell_type": "code",
   "execution_count": 16,
   "id": "c8f61ac5-efc6-4ee4-9e7e-161936fad177",
   "metadata": {},
   "outputs": [
    {
     "name": "stdout",
     "output_type": "stream",
     "text": [
      "[0.81717218 0.83264102 0.42939004 0.39033227]\n"
     ]
    }
   ],
   "source": [
    "var = np.random.rand(4)\n",
    "print(var)"
   ]
  },
  {
   "cell_type": "code",
   "execution_count": 18,
   "id": "e75fdb29-c4ff-423b-b24e-84af2a326a55",
   "metadata": {},
   "outputs": [
    {
     "name": "stdout",
     "output_type": "stream",
     "text": [
      "[[0.47069961 0.38328893 0.94691455 0.73667796 0.48075356]\n",
      " [0.94005708 0.15414777 0.4170127  0.96734628 0.51198899]\n",
      " [0.23241427 0.84115504 0.68158374 0.11624951 0.90818784]\n",
      " [0.52355436 0.21291449 0.74702505 0.61219734 0.17926928]]\n"
     ]
    }
   ],
   "source": [
    "var1 = np.random.rand(4,5)\n",
    "print(var1)"
   ]
  },
  {
   "cell_type": "markdown",
   "id": "4fd66295-6947-41c1-a9b7-aa31033ab298",
   "metadata": {},
   "source": [
    "# randn()"
   ]
  },
  {
   "cell_type": "markdown",
   "id": "4b777e69-98dc-4428-89ab-2f6379014a26",
   "metadata": {},
   "source": [
    "Generate random value close to zero. This may return positive or negative number as well"
   ]
  },
  {
   "cell_type": "markdown",
   "id": "3bb3e92d-e351-4fc2-9461-e4798e9a34f7",
   "metadata": {},
   "source": [
    "# ranf()"
   ]
  },
  {
   "cell_type": "markdown",
   "id": "bfe2ea7a-614b-4209-84c4-2d372eb311ee",
   "metadata": {},
   "source": [
    "The function for doing random sampling in numpy. It returns an array of specified shape and fills it with random floast in the half-open interval [0.0,1.0]"
   ]
  },
  {
   "cell_type": "markdown",
   "id": "9e4e6707-04fe-4e46-8253-b4393ca2f853",
   "metadata": {},
   "source": [
    "# randint()"
   ]
  },
  {
   "cell_type": "markdown",
   "id": "e05175f0-2b3f-4650-85a3-d0c5318b3357",
   "metadata": {},
   "source": [
    "The function is used to generate a random number between a given range. \n",
    "var4 = np.random.randint(min,max,total_number_you_want)"
   ]
  },
  {
   "cell_type": "code",
   "execution_count": 20,
   "id": "9f5e272e-2f11-4ad7-8e3c-3cd4957cf053",
   "metadata": {},
   "outputs": [
    {
     "name": "stdout",
     "output_type": "stream",
     "text": [
      "[13 16 10 13  9]\n"
     ]
    }
   ],
   "source": [
    "var4 = np.random.randint(5,20,5)\n",
    "print(var4)"
   ]
  },
  {
   "cell_type": "markdown",
   "id": "eaeee916-dcb7-48aa-b4fe-347e42b6d75c",
   "metadata": {},
   "source": [
    "# Numpy data types"
   ]
  },
  {
   "cell_type": "code",
   "execution_count": 3,
   "id": "fa274231-0651-4fa0-bb33-6257f7dc7ca8",
   "metadata": {},
   "outputs": [
    {
     "name": "stdout",
     "output_type": "stream",
     "text": [
      "Data type: int32\n"
     ]
    }
   ],
   "source": [
    "import numpy as np\n",
    "var6= np.array([1,2,3,4])\n",
    "print(\"Data type:\",var6.dtype)"
   ]
  },
  {
   "cell_type": "code",
   "execution_count": 4,
   "id": "9831d1f6-3e50-44fc-876e-d99fe463798b",
   "metadata": {},
   "outputs": [
    {
     "name": "stdout",
     "output_type": "stream",
     "text": [
      "Data type: float64\n"
     ]
    }
   ],
   "source": [
    "var7= np.array([1.0,2.1,3.3,4.4])\n",
    "print(\"Data type:\",var7.dtype)"
   ]
  },
  {
   "cell_type": "code",
   "execution_count": 7,
   "id": "2e0ce94d-e3ea-4438-af8a-5f2353869e06",
   "metadata": {},
   "outputs": [
    {
     "name": "stdout",
     "output_type": "stream",
     "text": [
      "Data type: <U11\n"
     ]
    }
   ],
   "source": [
    "var8= np.array([\"A\",\"B\",\"C\",\"D\",1,2])\n",
    "print(\"Data type:\",var8.dtype)"
   ]
  },
  {
   "cell_type": "code",
   "execution_count": 9,
   "id": "b6e71e62-028f-45a9-8801-da93841a45b2",
   "metadata": {},
   "outputs": [
    {
     "name": "stdout",
     "output_type": "stream",
     "text": [
      "Data type: int8\n"
     ]
    }
   ],
   "source": [
    "x= np.array([1,2,3,4],dtype=np.int8) #changing the data type syntax\n",
    "print(\"Data type:\",x.dtype)"
   ]
  },
  {
   "cell_type": "code",
   "execution_count": 11,
   "id": "96306cee-d83f-4ab1-91aa-69416856e101",
   "metadata": {},
   "outputs": [
    {
     "name": "stdout",
     "output_type": "stream",
     "text": [
      "Data type: float32\n",
      "[1 2 3 4]\n"
     ]
    }
   ],
   "source": [
    "x1= np.array([1,2,3,4],dtype=\"f\") #changing the data type syntax using shortcut\n",
    "print(\"Data type:\",x1.dtype)\n",
    "print(x)"
   ]
  },
  {
   "cell_type": "code",
   "execution_count": 13,
   "id": "7046a5f5-388e-4ba9-b6a1-711fdce5547a",
   "metadata": {},
   "outputs": [
    {
     "name": "stdout",
     "output_type": "stream",
     "text": [
      "Data type: int8\n",
      "Data type: float32\n",
      "[1 2 3 4]\n",
      "[1. 2. 3. 4.]\n"
     ]
    }
   ],
   "source": [
    "x2= np.array([1,2,3,4],dtype=np.int8) #changing the data type as a function\n",
    "new=np.float32(x2)\n",
    "print(\"Data type:\",x2.dtype)\n",
    "print(\"Data type:\",new.dtype)\n",
    "print(x)\n",
    "print(new)"
   ]
  },
  {
   "cell_type": "code",
   "execution_count": 16,
   "id": "6af329ca-72f4-4896-b1fc-3b220c80aa96",
   "metadata": {},
   "outputs": [
    {
     "name": "stdout",
     "output_type": "stream",
     "text": [
      "[1 2 3 4]\n",
      "[1. 2. 3. 4.]\n"
     ]
    }
   ],
   "source": [
    "x3= np.array([1,2,3,4]) #changing the data type syntax using astype function\n",
    "new_1=x3.astype(float)\n",
    "print(x3)\n",
    "print(new_1)"
   ]
  },
  {
   "cell_type": "markdown",
   "id": "3359b0b4-a79d-4506-a46c-362e3f5d5f60",
   "metadata": {},
   "source": [
    "# Shape and Reshapping"
   ]
  },
  {
   "cell_type": "code",
   "execution_count": 17,
   "id": "7b8c73b7-5a22-4dda-8dc3-346375cb0eb7",
   "metadata": {},
   "outputs": [
    {
     "name": "stdout",
     "output_type": "stream",
     "text": [
      "[[1 2 3 4]\n",
      " [1 2 3 4]]\n",
      "\n",
      "(2, 4)\n"
     ]
    }
   ],
   "source": [
    "x4 = np.array([[1,2,3,4],[1,2,3,4]])\n",
    "print(x4)\n",
    "print()\n",
    "print(x4.shape)"
   ]
  },
  {
   "cell_type": "code",
   "execution_count": 19,
   "id": "84822c33-b857-449c-84fb-d2bb2c14b125",
   "metadata": {},
   "outputs": [
    {
     "name": "stdout",
     "output_type": "stream",
     "text": [
      "[[[[1 2 3 4]]]]\n",
      "4\n",
      "\n",
      "(1, 1, 1, 4)\n"
     ]
    }
   ],
   "source": [
    "x5=np.array([1,2,3,4],ndmin=4)\n",
    "print(x5)\n",
    "print(x5.ndim)\n",
    "print()\n",
    "print(x5.shape)"
   ]
  },
  {
   "cell_type": "markdown",
   "id": "07131367-87d0-4821-a8cb-0e8ca118eca0",
   "metadata": {},
   "source": [
    "# Reshape"
   ]
  },
  {
   "cell_type": "code",
   "execution_count": 24,
   "id": "0048035f-012a-4671-a269-ed6bcd75f6ee",
   "metadata": {},
   "outputs": [
    {
     "name": "stdout",
     "output_type": "stream",
     "text": [
      "[1 2 3 4 5 6]\n",
      "1\n",
      "\n",
      "[[1 2]\n",
      " [3 4]\n",
      " [5 6]]\n",
      "2\n"
     ]
    }
   ],
   "source": [
    "var2 = np.array([1,2,3,4,5,6])\n",
    "print(var2)\n",
    "print (var2.ndim)\n",
    "print()\n",
    "x = var2.reshape (3,2)\n",
    "print(x)\n",
    "print(x.ndim)"
   ]
  },
  {
   "cell_type": "code",
   "execution_count": 27,
   "id": "a8e94d26-adb6-4d77-aa3d-3ff9fd5ec569",
   "metadata": {},
   "outputs": [
    {
     "name": "stdout",
     "output_type": "stream",
     "text": [
      "[ 1  2  3  4  5  6  7  8  9 10 11 12]\n",
      "1\n",
      "\n",
      "[[[ 1  2]\n",
      "  [ 3  4]\n",
      "  [ 5  6]]\n",
      "\n",
      " [[ 7  8]\n",
      "  [ 9 10]\n",
      "  [11 12]]]\n",
      "3\n"
     ]
    }
   ],
   "source": [
    "var3 = np.array([1,2,3,4,5,6,7,8,9,10,11,12])\n",
    "print(var3)\n",
    "print(var3.ndim)\n",
    "print()\n",
    "x1 = var3.reshape (2,3,2)\n",
    "print(x1)\n",
    "print (x1.ndim)"
   ]
  },
  {
   "cell_type": "code",
   "execution_count": 30,
   "id": "2efb0542-41e4-4950-8a9a-2d266e72a5d7",
   "metadata": {},
   "outputs": [
    {
     "name": "stdout",
     "output_type": "stream",
     "text": [
      "[ 1  2  3  4  5  6  7  8  9 10 11 12]\n",
      "1\n",
      "\n",
      "[[[ 1  2]\n",
      "  [ 3  4]\n",
      "  [ 5  6]]\n",
      "\n",
      " [[ 7  8]\n",
      "  [ 9 10]\n",
      "  [11 12]]]\n",
      "3\n",
      "\n",
      "[ 1  2  3  4  5  6  7  8  9 10 11 12]\n",
      "1\n"
     ]
    }
   ],
   "source": [
    "var3 = np.array([1,2,3,4,5,6,7,8,9,10,11,12])\n",
    "print (var3)\n",
    "print(var3.ndim)\n",
    "print ()\n",
    "x1 = var3.reshape (2,3,2)\n",
    "print (x1)\n",
    "print (x1.ndim)\n",
    "print ()\n",
    "one =x1.reshape (-1) #$this will create one dimensional array\n",
    "print (one)\n",
    "print (one.ndim)"
   ]
  },
  {
   "cell_type": "markdown",
   "id": "6f6025b0-7e74-43f9-9512-0bf0092db01b",
   "metadata": {},
   "source": [
    "# Airthmetic operation "
   ]
  },
  {
   "cell_type": "code",
   "execution_count": 32,
   "id": "44002d4a-5e94-4d2e-a1ba-bdeb2318fecb",
   "metadata": {},
   "outputs": [
    {
     "name": "stdout",
     "output_type": "stream",
     "text": [
      "[2 4 6 8]\n"
     ]
    }
   ],
   "source": [
    "var1= np.array([1,2,3,4])\n",
    "var2 = np.array([1,2,3,4])\n",
    "varadd = np.add(var1, var2) #similar for sub divide mod and multiply\n",
    "print(varadd)"
   ]
  },
  {
   "cell_type": "markdown",
   "id": "8ca7045a-7e7e-4730-9261-e7d3ab7b4c27",
   "metadata": {},
   "source": [
    "np.add(a,b)\n",
    "np.subtract(a,b)\n",
    "np.multiply(a,b)\n",
    "np.divide(a,b)\n",
    "np.mod(a,b)\n",
    "np.power(a,b)\n",
    "np.reciprocal(a)"
   ]
  },
  {
   "cell_type": "markdown",
   "id": "5312d047-b52f-443a-9aa4-40194be5f2a1",
   "metadata": {},
   "source": [
    "np.min(x)\n",
    "np.max(x )\n",
    "np.argmin(x)\n",
    "np.sqrt(x)\n",
    "np.sin(x)\n",
    "np.cos(x)\n",
    "np.cumsum( x )"
   ]
  },
  {
   "cell_type": "code",
   "execution_count": 34,
   "id": "41ca66a8-c454-4cd9-a2b7-ba9842e74cef",
   "metadata": {},
   "outputs": [
    {
     "name": "stdout",
     "output_type": "stream",
     "text": [
      "[2 1 3]\n"
     ]
    }
   ],
   "source": [
    "var1= np.array([[2,1,3], [9,5,6]])\n",
    "print(np.min(var1, axis=0))"
   ]
  },
  {
   "cell_type": "markdown",
   "id": "85a91f19-f516-4015-b714-83f9468e3e93",
   "metadata": {},
   "source": [
    "# Broadcasting"
   ]
  },
  {
   "cell_type": "code",
   "execution_count": 37,
   "id": "46cf0149-eb77-4695-8099-ca36b8d2d77c",
   "metadata": {},
   "outputs": [
    {
     "name": "stdout",
     "output_type": "stream",
     "text": [
      "[2 4 6 8]\n"
     ]
    }
   ],
   "source": [
    "var1 = np.array([1,2,3,4])\n",
    "var2 = np.array([1,2,3,4])\n",
    "print( var1 + var2 ) "
   ]
  },
  {
   "cell_type": "code",
   "execution_count": 40,
   "id": "8eb21ccc-6e44-4e42-8792-d250e48e631d",
   "metadata": {},
   "outputs": [
    {
     "name": "stdout",
     "output_type": "stream",
     "text": [
      "(3,)\n",
      "\n",
      "[1 2 3]\n",
      "\n",
      "(3, 1)\n",
      "\n",
      "[[1]\n",
      " [2]\n",
      " [3]]\n",
      "\n",
      "[[1 2 3]\n",
      " [2 4 6]\n",
      " [3 6 9]]\n"
     ]
    }
   ],
   "source": [
    "var1 = np.array([1,2,3])\n",
    "print(var1.shape)\n",
    "print()\n",
    "print(var1)\n",
    "print()\n",
    "var2 = np.array([[1], [2], [3]])\n",
    "print(var2.shape)\n",
    "print()\n",
    "print(var2)\n",
    "print()\n",
    "print(var1*var2)"
   ]
  },
  {
   "cell_type": "markdown",
   "id": "5147918d-0487-4579-9ac8-48a35587be3a",
   "metadata": {},
   "source": [
    "# Indexing"
   ]
  },
  {
   "cell_type": "code",
   "execution_count": 42,
   "id": "57f66c2a-acf4-4204-ba11-4d1a583abd4e",
   "metadata": {},
   "outputs": [
    {
     "name": "stdout",
     "output_type": "stream",
     "text": [
      "2\n",
      "4\n"
     ]
    }
   ],
   "source": [
    "var =np.array([1,2,3,4])\n",
    "print(var[1])\n",
    "print(var[-1])"
   ]
  },
  {
   "cell_type": "code",
   "execution_count": 43,
   "id": "880f76dd-ba28-454a-9448-1227b5c23266",
   "metadata": {},
   "outputs": [
    {
     "name": "stdout",
     "output_type": "stream",
     "text": [
      "[[9 8 7]\n",
      " [4 5 6]]\n",
      "2\n",
      "\n",
      "7\n"
     ]
    }
   ],
   "source": [
    "var1 = np.array([[9,8,7], [4,5,6]])\n",
    "print(var1)\n",
    "print(var1.ndim)\n",
    "print()\n",
    "print(var1[0,2])"
   ]
  },
  {
   "cell_type": "code",
   "execution_count": 44,
   "id": "74d3068a-c97e-4bd1-b6d9-baf4f89421d2",
   "metadata": {},
   "outputs": [
    {
     "name": "stdout",
     "output_type": "stream",
     "text": [
      "[[[1 2]\n",
      "  [6 7]]]\n",
      "3\n",
      "\n",
      "7\n"
     ]
    }
   ],
   "source": [
    "var2 =np.array([[[1,2], [6,7]]])\n",
    "print(var2)\n",
    "print(var2.ndim)\n",
    "print()\n",
    "print (var2[0,1,1])"
   ]
  },
  {
   "cell_type": "markdown",
   "id": "d3a65231-cc6e-4b34-a678-1549c3837ae7",
   "metadata": {},
   "source": [
    "# Slicing"
   ]
  },
  {
   "cell_type": "code",
   "execution_count": 55,
   "id": "079e553a-601d-4a8a-b7b1-6063ed37f8c3",
   "metadata": {},
   "outputs": [
    {
     "name": "stdout",
     "output_type": "stream",
     "text": [
      "[9 2 8 4 0 3 1]\n",
      "\n",
      "2 to 0: [2 8 4 0]\n",
      "2 to End [2 8 4 0 3 1]\n",
      "start to 0 [9 2 8 4 0]\n",
      "step: [2 4 3]\n"
     ]
    }
   ],
   "source": [
    "var = np.array([9,2,8,4,0,3,1])\n",
    "print(var)\n",
    "print()\n",
    "print(\"2 to 0:\", var[1:5])\n",
    "print(\"2 to End\", var[1:])\n",
    "print(\"start to 0\", var[:5])\n",
    "print(\"step:\",var[1:6:2])"
   ]
  },
  {
   "cell_type": "code",
   "execution_count": 56,
   "id": "9e943280-ab95-4c6b-b5a0-6ce06010cbe1",
   "metadata": {},
   "outputs": [
    {
     "name": "stdout",
     "output_type": "stream",
     "text": [
      "[[ 1  2  3  4  5]\n",
      " [ 9  8 17  6  5]\n",
      " [11 12 13 14 15]]\n",
      "\n",
      "8 to 5:  [ 8 17  6  5]\n"
     ]
    }
   ],
   "source": [
    "var1 = np.array([[1,2,3,4,5],[9,8,17,6,5],[11,12,13,14,15]])\n",
    "print(var1)\n",
    "print()\n",
    "print(\"8 to 5: \", var1[1,1:])"
   ]
  },
  {
   "cell_type": "markdown",
   "id": "0b33cd69-6fd5-47d3-85d3-805a1f6509d5",
   "metadata": {},
   "source": [
    " # Iteration Numpy array"
   ]
  },
  {
   "cell_type": "code",
   "execution_count": 58,
   "id": "bcbf8250-1f32-48fa-b979-012c177f62be",
   "metadata": {},
   "outputs": [
    {
     "name": "stdout",
     "output_type": "stream",
     "text": [
      "[9 8 7 6 5 4]\n",
      "\n",
      "9\n",
      "8\n",
      "7\n",
      "6\n",
      "5\n",
      "4\n"
     ]
    }
   ],
   "source": [
    "var = np.array([9,8,7,6,5,4])\n",
    "print(var)\n",
    "print()\n",
    "for i in var:\n",
    "    print(i)"
   ]
  },
  {
   "cell_type": "code",
   "execution_count": 61,
   "id": "90fc315f-8131-4053-85d1-f519b0d71f28",
   "metadata": {},
   "outputs": [
    {
     "name": "stdout",
     "output_type": "stream",
     "text": [
      "[[1 2 3 4]\n",
      " [1 2 3 4]]\n",
      "\n",
      "[1 2 3 4]\n",
      "[1 2 3 4]\n",
      "\n",
      "1\n",
      "2\n",
      "3\n",
      "4\n",
      "1\n",
      "2\n",
      "3\n",
      "4\n"
     ]
    }
   ],
   "source": [
    "var1 = np.array([[1,2,3,4],[1,2,3,4]])\n",
    "print(var1)\n",
    "print()\n",
    "for j in var1:\n",
    "    print(j)\n",
    "print()\n",
    "for k in var1:\n",
    "    for l in k:\n",
    "        print(l)"
   ]
  },
  {
   "cell_type": "code",
   "execution_count": 62,
   "id": "914674f0-1e97-4d66-9899-3b80c7326fda",
   "metadata": {},
   "outputs": [
    {
     "name": "stdout",
     "output_type": "stream",
     "text": [
      "[[[9 8 7 6]\n",
      "  [1 2 3 4]]]\n",
      "3\n",
      "\n",
      "9\n",
      "8\n",
      "7\n",
      "6\n",
      "1\n",
      "2\n",
      "3\n",
      "4\n"
     ]
    }
   ],
   "source": [
    "var3 = np.array([[[9,8,7,6],[1,2,3,4]]])\n",
    "print(var3)\n",
    "print(var3.ndim)\n",
    "print()\n",
    "for i in np.nditer(var3): #np.nditer avoid the multiple use of for loop\n",
    "    print(i)"
   ]
  },
  {
   "cell_type": "code",
   "execution_count": 63,
   "id": "f0ccc14b-9f37-4909-86a7-578bfbb8731e",
   "metadata": {},
   "outputs": [
    {
     "name": "stdout",
     "output_type": "stream",
     "text": [
      "[[[9 8 7 6]\n",
      "  [1 2 3 4]]]\n",
      "3\n",
      "\n",
      "(0, 0, 0) 9\n",
      "(0, 0, 1) 8\n",
      "(0, 0, 2) 7\n",
      "(0, 0, 3) 6\n",
      "(0, 1, 0) 1\n",
      "(0, 1, 1) 2\n",
      "(0, 1, 2) 3\n",
      "(0, 1, 3) 4\n"
     ]
    }
   ],
   "source": [
    "var4 = np.array([[[9,8,7,6],[1,2,3,4]]])\n",
    "print(var4)\n",
    "print(var4.ndim)\n",
    "print()\n",
    "for i,d in np.ndenumerate(var4): #np.denumerate iterate the data with index\n",
    "    print(i,d)"
   ]
  },
  {
   "cell_type": "markdown",
   "id": "6a951d75-8574-45c2-9aad-9965aa80e242",
   "metadata": {},
   "source": [
    "# copy vs view"
   ]
  },
  {
   "cell_type": "code",
   "execution_count": 64,
   "id": "081a18da-33b3-4cbb-8006-840482b277fd",
   "metadata": {},
   "outputs": [
    {
     "name": "stdout",
     "output_type": "stream",
     "text": [
      "var: [1 2 3 4]\n",
      "copy :  [1 2 3 4]\n"
     ]
    }
   ],
   "source": [
    "var = np.array([1,2,3,4])\n",
    "co = var.copy ()\n",
    "print(\"var:\" , var)\n",
    "print(\"copy : \", co)\n"
   ]
  },
  {
   "cell_type": "code",
   "execution_count": 65,
   "id": "7fe10bd6-529c-4f56-aec7-09765b049457",
   "metadata": {},
   "outputs": [
    {
     "name": "stdout",
     "output_type": "stream",
     "text": [
      "x [9 8 7 6 5]\n",
      "view : [9 8 7 6 5]\n"
     ]
    }
   ],
   "source": [
    "x = np.array([9,8,7,6,5])\n",
    "vi = x.view()\n",
    "print(\"x\",x)\n",
    "print(\"view :\",vi)"
   ]
  },
  {
   "cell_type": "markdown",
   "id": "4c89d90d-0438-482d-88b2-e83ba816acfb",
   "metadata": {},
   "source": [
    " # Join Array"
   ]
  },
  {
   "cell_type": "code",
   "execution_count": 68,
   "id": "6b446151-7d62-404f-b3f2-c0bfaae9a310",
   "metadata": {},
   "outputs": [
    {
     "name": "stdout",
     "output_type": "stream",
     "text": [
      "[1 2 3 4 9 8 7 6]\n"
     ]
    }
   ],
   "source": [
    "var=np.array([1,2,3,4])\n",
    "var1=np.array([9,8,7,6])\n",
    "ar=np.concatenate((var,var1))\n",
    "print(ar)"
   ]
  },
  {
   "cell_type": "code",
   "execution_count": 71,
   "id": "ca47d5e9-15a7-4f08-ad2f-266cf29052ca",
   "metadata": {},
   "outputs": [
    {
     "name": "stdout",
     "output_type": "stream",
     "text": [
      "[[1 2 9 8]\n",
      " [3 4 7 6]]\n"
     ]
    }
   ],
   "source": [
    "vr=np.array([[1,2],[3,4]])\n",
    "vr1=np.array([[9,8],[7,6]])\n",
    "ar1=np.concatenate((vr,vr1),axis=1)\n",
    "print(ar1) "
   ]
  },
  {
   "cell_type": "code",
   "execution_count": 75,
   "id": "1368f976-261d-4993-8ad7-172896ca5a60",
   "metadata": {},
   "outputs": [
    {
     "name": "stdout",
     "output_type": "stream",
     "text": [
      "[[1 9]\n",
      " [2 8]\n",
      " [3 7]\n",
      " [4 6]]\n",
      "\n",
      "[1 2 3 4 9 8 7 6]\n",
      "\n",
      "[[1 2 3 4]\n",
      " [9 8 7 6]]\n",
      "\n",
      "[[[1 9]\n",
      "  [2 8]\n",
      "  [3 7]\n",
      "  [4 6]]]\n",
      "\n"
     ]
    }
   ],
   "source": [
    "var_1=np.array([1,2,3,4])\n",
    "var_2=np.array([9,8,7,6])\n",
    "ar_new=np.stack((var_1,var_2),axis=1)#stack will join array through axis\n",
    "ar_new1=np.hstack((var_1,var_2))#row\n",
    "ar_new2=np.stack((var_1,var_2)) #column\n",
    "ar_new3=np.dstack((var_1,var_2)) #height\n",
    "print(ar_new)\n",
    "print()\n",
    "print(ar_new1)\n",
    "print()\n",
    "print(ar_new2)\n",
    "print()\n",
    "print(ar_new3)\n",
    "print()"
   ]
  },
  {
   "cell_type": "markdown",
   "id": "20ba3747-c7d5-488f-ba93-0b6077d87283",
   "metadata": {},
   "source": [
    "# split array"
   ]
  },
  {
   "cell_type": "code",
   "execution_count": 77,
   "id": "47a39a25-b092-46c5-a451-84774b3546c2",
   "metadata": {},
   "outputs": [
    {
     "name": "stdout",
     "output_type": "stream",
     "text": [
      "[1 2 3 4 5 6]\n",
      "[array([1, 2]), array([3, 4]), array([5, 6])]\n",
      "[1 2]\n"
     ]
    }
   ],
   "source": [
    "var=np.array([1,2,3,4,5,6])\n",
    "print(var)\n",
    "ar=np.array_split(var,3)\n",
    "print(ar)\n",
    "print(ar[0])"
   ]
  },
  {
   "cell_type": "code",
   "execution_count": 80,
   "id": "068f5b67-ee75-4823-b997-22e2bd1eea02",
   "metadata": {},
   "outputs": [
    {
     "name": "stdout",
     "output_type": "stream",
     "text": [
      "[[1 2]\n",
      " [3 4]\n",
      " [5 6]]\n",
      "[array([[1, 2]]), array([[3, 4]]), array([[5, 6]])]\n",
      "\n",
      "[array([[1],\n",
      "       [3],\n",
      "       [5]]), array([[2],\n",
      "       [4],\n",
      "       [6]]), array([], shape=(3, 0), dtype=int32)]\n"
     ]
    }
   ],
   "source": [
    "var1=np.array([[1,2],[3,4],[5,6]])\n",
    "print(var1)\n",
    "ar1=np.array_split(var1,3)\n",
    "print(ar1)\n",
    "print()\n",
    "ar2=np.array_split(var1,3,axis=1)\n",
    "print(ar2)"
   ]
  },
  {
   "cell_type": "markdown",
   "id": "29726524-10e2-4ad4-bb64-e2c4c123c5fc",
   "metadata": {},
   "source": [
    "# Search"
   ]
  },
  {
   "cell_type": "code",
   "execution_count": 84,
   "id": "9d1c7817-a2eb-4d88-9d87-ef29f9018ebc",
   "metadata": {},
   "outputs": [
    {
     "name": "stdout",
     "output_type": "stream",
     "text": [
      "(array([1, 3, 4, 5, 7, 9], dtype=int64),)\n"
     ]
    }
   ],
   "source": [
    "var = np.array([1,2,3,2,4,2,5,6,7,8])\n",
    "x=np.where((var%2)==0)\n",
    "print(x)"
   ]
  },
  {
   "cell_type": "markdown",
   "id": "8a4903cf-7526-4e9a-9a27-4e2ab07d9d7d",
   "metadata": {},
   "source": [
    "var1 = np.array([1,2,3,4,6,7,8,9])\n",
    "x1=np.searchsorted(var1,5)\n",
    "print(x1)"
   ]
  },
  {
   "cell_type": "markdown",
   "id": "2f9c02d0-4984-43c0-adc3-0899bd0a76f0",
   "metadata": {},
   "source": [
    "# sort"
   ]
  },
  {
   "cell_type": "code",
   "execution_count": 87,
   "id": "5bedcac6-71c9-42be-ad44-488f90408d76",
   "metadata": {},
   "outputs": [
    {
     "name": "stdout",
     "output_type": "stream",
     "text": [
      "[  5  33  45  45  67  72  78 778]\n"
     ]
    }
   ],
   "source": [
    "var2 = np.array([72,5,67,45,78,33,45,778])\n",
    "x2=np.sort(var2)\n",
    "print(x2)"
   ]
  },
  {
   "cell_type": "markdown",
   "id": "36c32ce6-5bb7-4b95-89e7-33dca5bdc551",
   "metadata": {},
   "source": [
    "# Filter array"
   ]
  },
  {
   "cell_type": "code",
   "execution_count": 89,
   "id": "6a7c10b9-73f2-4684-aabb-1de22b3a5d21",
   "metadata": {},
   "outputs": [
    {
     "name": "stdout",
     "output_type": "stream",
     "text": [
      "[1 3]\n"
     ]
    }
   ],
   "source": [
    "var_3=np.array([1,2,3,4,5])\n",
    "f=[True,False,True,False,False]\n",
    "new_a=var_3[f]\n",
    "print(new_a)"
   ]
  },
  {
   "cell_type": "markdown",
   "id": "eebc084e-caf1-48fe-af23-72dca6a928c1",
   "metadata": {},
   "source": [
    "# Arithmetic function"
   ]
  },
  {
   "cell_type": "code",
   "execution_count": 92,
   "id": "4e3e1395-106e-4dff-925d-98ede05893cc",
   "metadata": {},
   "outputs": [
    {
     "name": "stdout",
     "output_type": "stream",
     "text": [
      "[2 4 5 1 3]\n"
     ]
    }
   ],
   "source": [
    "var_4=np.array([1,2,3,4,5])\n",
    "np.random.shuffle(var_4)\n",
    "print(var_4)"
   ]
  },
  {
   "cell_type": "code",
   "execution_count": 94,
   "id": "330a73c4-a86d-4083-b38b-985d363a2494",
   "metadata": {},
   "outputs": [
    {
     "name": "stdout",
     "output_type": "stream",
     "text": [
      "(array([1, 2, 3, 4, 5, 6, 7]), array([0, 1, 2, 3, 5, 6, 7], dtype=int64), array([1, 3, 1, 1, 1, 1, 1], dtype=int64))\n"
     ]
    }
   ],
   "source": [
    "var1=np.array([1,2,3,4,2,5,6,7,2])\n",
    "x=np.unique(var1, return_index=True, return_counts=True)\n",
    "print(x)"
   ]
  },
  {
   "cell_type": "code",
   "execution_count": 101,
   "id": "c2385af7-927a-4a53-a9e8-fe630061d145",
   "metadata": {},
   "outputs": [
    {
     "name": "stdout",
     "output_type": "stream",
     "text": [
      "[[1 2 3]\n",
      " [4 5 1]]\n",
      "\n",
      "[1 2 3 4 5 1]\n",
      "Flatten: [1 4 2 5 3 1]\n",
      "Ravel: [1 2 3 4 5 1]\n"
     ]
    }
   ],
   "source": [
    "var_6=np.array([1,2,3,4,5])\n",
    "y=np.resize(var_6,(2,3))\n",
    "print(y)\n",
    "print()\n",
    "print(y.flatten())\n",
    "print(\"Flatten:\", y.flatten(order=\"F\"))\n",
    "print(\"Ravel:\",np.ravel(y,order=\"A\"))"
   ]
  },
  {
   "cell_type": "markdown",
   "id": "7b437d71-afd7-44fd-a503-3eb1b0db24ae",
   "metadata": {},
   "source": [
    "# Insert"
   ]
  },
  {
   "cell_type": "code",
   "execution_count": 102,
   "id": "d99e8813-8662-42d6-a0a6-b55758d0cea9",
   "metadata": {},
   "outputs": [
    {
     "name": "stdout",
     "output_type": "stream",
     "text": [
      "[1 2 3 4 5]\n",
      "[ 1  2 40  3  4  5]\n"
     ]
    }
   ],
   "source": [
    "var_7=np.array([1,2,3,4,5])\n",
    "print(var_7)\n",
    "v=np.insert(var_7, 2, 40)\n",
    "print(v)"
   ]
  },
  {
   "cell_type": "code",
   "execution_count": 105,
   "id": "6088c2c9-9ddd-45fc-9229-59816623bd40",
   "metadata": {},
   "outputs": [
    {
     "name": "stdout",
     "output_type": "stream",
     "text": [
      "[[ 1  2 40  3  4]\n",
      " [ 1  2 40  3  4]]\n"
     ]
    }
   ],
   "source": [
    "ar2 = np.array([[1,2,3,4],[1,2,3,4]])\n",
    "v1=np.insert(ar2, 2, 40, axis=1)\n",
    "print(v1)"
   ]
  },
  {
   "cell_type": "markdown",
   "id": "3313b807-1688-4cf6-9311-c48f0aca968c",
   "metadata": {},
   "source": [
    "# Delete"
   ]
  },
  {
   "cell_type": "code",
   "execution_count": 106,
   "id": "c019f878-307e-4713-85a0-224509a4677b",
   "metadata": {},
   "outputs": [
    {
     "name": "stdout",
     "output_type": "stream",
     "text": [
      "[ 1  2 30  4  5]\n",
      "[1 2 4 5]\n"
     ]
    }
   ],
   "source": [
    "var_8=np.array([1,2,30,4,5])\n",
    "print(var_8)\n",
    "v3=np.delete(var_8, 2)\n",
    "print(v3)"
   ]
  },
  {
   "cell_type": "markdown",
   "id": "fc8aa8d7-07d7-45b1-85dd-7f93c65f80d5",
   "metadata": {},
   "source": [
    "# Matrix"
   ]
  },
  {
   "cell_type": "code",
   "execution_count": 109,
   "id": "9533ad04-891a-427e-9c28-d661d7622ef8",
   "metadata": {},
   "outputs": [
    {
     "name": "stdout",
     "output_type": "stream",
     "text": [
      "[[1 2]\n",
      " [1 2]]\n",
      "<class 'numpy.matrix'>\n",
      "[[3 6]\n",
      " [3 6]]\n"
     ]
    }
   ],
   "source": [
    "ar1 = np.matrix([[1,2],[1,2]])\n",
    "ar2 = np.matrix([[1,2],[1,2]])\n",
    "print(ar1)\n",
    "print(type(ar1))\n",
    "print(ar1.dot(ar2))"
   ]
  },
  {
   "cell_type": "code",
   "execution_count": 108,
   "id": "0372729f-b69c-401d-83fc-e6540fcfed1e",
   "metadata": {},
   "outputs": [
    {
     "name": "stdout",
     "output_type": "stream",
     "text": [
      "[[1 2 3 4]\n",
      " [1 2 3 4]]\n",
      "<class 'numpy.ndarray'>\n"
     ]
    }
   ],
   "source": [
    "ar2 = np.array([[1,2,3,4],[1,2,3,4]])\n",
    "print(ar2)\n",
    "print(type(ar2))"
   ]
  },
  {
   "cell_type": "code",
   "execution_count": null,
   "id": "346c0a51-f876-49d5-b92a-18ab780a9e89",
   "metadata": {},
   "outputs": [],
   "source": []
  }
 ],
 "metadata": {
  "kernelspec": {
   "display_name": "Python 3 (ipykernel)",
   "language": "python",
   "name": "python3"
  },
  "language_info": {
   "codemirror_mode": {
    "name": "ipython",
    "version": 3
   },
   "file_extension": ".py",
   "mimetype": "text/x-python",
   "name": "python",
   "nbconvert_exporter": "python",
   "pygments_lexer": "ipython3",
   "version": "3.11.3"
  }
 },
 "nbformat": 4,
 "nbformat_minor": 5
}
